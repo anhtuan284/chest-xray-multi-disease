{
 "cells": [
  {
   "cell_type": "code",
   "execution_count": 1,
   "metadata": {
    "execution": {
     "iopub.execute_input": "2025-03-29T10:16:11.225633Z",
     "iopub.status.busy": "2025-03-29T10:16:11.225293Z",
     "iopub.status.idle": "2025-03-29T10:16:11.230885Z",
     "shell.execute_reply": "2025-03-29T10:16:11.229990Z",
     "shell.execute_reply.started": "2025-03-29T10:16:11.225601Z"
    },
    "trusted": true
   },
   "outputs": [],
   "source": [
    "import nest_asyncio\n",
    "nest_asyncio.apply()"
   ]
  },
  {
   "cell_type": "code",
   "execution_count": 2,
   "metadata": {},
   "outputs": [],
   "source": [
    "import os\n",
    "from dotenv import load_dotenv \n",
    "load_dotenv()\n",
    "# GLOBAL CONFIGURATION\n",
    "class CFG:\n",
    "    # POSTGRES \n",
    "    OLLAMA_SERVER_URL=os.getenv(\"OLLAMA_SERVER_URL\")\n",
    "    DB_NAME=os.getenv(\"DATABASE_NAME\")\n",
    "    TABLE_NAME = os.getenv(\"VECTOR_TABLE_NAME\")\n",
    "    CUSTOM_TABLE_NAME=\"custom_theme_collection\"\n",
    "    PORT=os.getenv(\"PORT\")\n",
    "    CONNECTION_STRING = os.getenv(\"VECTOR_DATABASE_URL\")\n",
    "\n",
    "    # DIRECTORY\n",
    "    EXTRACTED_FEATURE_DIR=\"./dataset/extracted_features\"\n",
    "    METADATA_DIR=\"./dataset/metadata\"\n",
    "    CACHE_FOLDER=\".cache/huggingface/hub/\"\n",
    "    \n",
    "    # EMBEDDING MODEL\n",
    "    EMBEDDING_MODEL_NAME=\"BAAI/bge-small-en-v1.5\"\n",
    "\n",
    "    # REDIS\n",
    "    REDIS_URL=os.getenv(\"REDIS_URL\")\n",
    "    REDIS_HOST=os.getenv(\"REDIS_HOST\")\n",
    "    REDIS_USERNAME=os.getenv(\"REDIS_USERNAME\")\n",
    "    REDIS_PASSWORD=os.getenv(\"REDIS_PASSWORD\")"
   ]
  },
  {
   "cell_type": "code",
   "execution_count": null,
   "metadata": {},
   "outputs": [],
   "source": []
  },
  {
   "cell_type": "markdown",
   "metadata": {},
   "source": [
    "### 1. Setup Embedding Configurations"
   ]
  },
  {
   "cell_type": "code",
   "execution_count": 3,
   "metadata": {
    "execution": {
     "iopub.execute_input": "2025-03-29T10:17:55.998015Z",
     "iopub.status.busy": "2025-03-29T10:17:55.997571Z",
     "iopub.status.idle": "2025-03-29T10:17:57.570825Z",
     "shell.execute_reply": "2025-03-29T10:17:57.570013Z",
     "shell.execute_reply.started": "2025-03-29T10:17:55.997977Z"
    },
    "trusted": true
   },
   "outputs": [],
   "source": [
    "# Setup LLM using Ollama\n",
    "from llama_index.llms.ollama import Ollama\n",
    "llm = Ollama(model=\"llama3\", request_timeout=120.0, base_url=CFG.OLLAMA_SERVER_URL)"
   ]
  },
  {
   "cell_type": "code",
   "execution_count": 4,
   "metadata": {
    "execution": {
     "iopub.execute_input": "2025-03-29T10:17:57.573962Z",
     "iopub.status.busy": "2025-03-29T10:17:57.573518Z",
     "iopub.status.idle": "2025-03-29T10:18:30.465996Z",
     "shell.execute_reply": "2025-03-29T10:18:30.465228Z",
     "shell.execute_reply.started": "2025-03-29T10:17:57.573934Z"
    },
    "trusted": true
   },
   "outputs": [
    {
     "name": "stderr",
     "output_type": "stream",
     "text": [
      "/home/atuan/Desktop/chest-xray-disease-multi-classification/be-rag/venv/lib/python3.12/site-packages/tqdm/auto.py:21: TqdmWarning: IProgress not found. Please update jupyter and ipywidgets. See https://ipywidgets.readthedocs.io/en/stable/user_install.html\n",
      "  from .autonotebook import tqdm as notebook_tqdm\n"
     ]
    }
   ],
   "source": [
    "# Setup Embedding Model\n",
    "from llama_index.embeddings.huggingface import HuggingFaceEmbedding\n",
    "embed_model = HuggingFaceEmbedding(model_name=\"BAAI/bge-small-en-v1.5\", cache_folder=\".cache/huggingface/hub/\")\n",
    "\n",
    "# Define global settings embedding model\n",
    "from llama_index.core import Settings\n",
    "\n",
    "Settings.llm = llm\n",
    "Settings.embed_model = embed_model"
   ]
  },
  {
   "cell_type": "markdown",
   "metadata": {},
   "source": [
    "### 2. Load "
   ]
  },
  {
   "cell_type": "markdown",
   "metadata": {},
   "source": [
    "#### 2.1 Define PgVector store\n"
   ]
  },
  {
   "cell_type": "code",
   "execution_count": 5,
   "metadata": {},
   "outputs": [],
   "source": [
    "import psycopg2\n",
    "\n",
    "conn = psycopg2.connect(CFG.CONNECTION_STRING)\n",
    "conn.autocommit = True\n",
    "\n",
    "# with conn.cursor() as c:\n",
    "#     c.execute(f\"DROP DATABASE IF EXISTS {CFG.DB_NAME}\")\n",
    "#     c.execute(f\"CREATE DATABASE {CFG.DB_NAME}\")"
   ]
  },
  {
   "cell_type": "code",
   "execution_count": 6,
   "metadata": {
    "execution": {
     "iopub.execute_input": "2025-03-29T10:18:30.467286Z",
     "iopub.status.busy": "2025-03-29T10:18:30.467046Z",
     "iopub.status.idle": "2025-03-29T10:18:31.031628Z",
     "shell.execute_reply": "2025-03-29T10:18:31.030702Z",
     "shell.execute_reply.started": "2025-03-29T10:18:30.467267Z"
    },
    "trusted": true
   },
   "outputs": [],
   "source": [
    "from sqlalchemy import make_url\n",
    "from llama_index.core import StorageContext\n",
    "from llama_index.core import VectorStoreIndex\n",
    "from llama_index.vector_stores.postgres import PGVectorStore\n",
    "from llama_index.storage.docstore.postgres import PostgresDocumentStore\n",
    "\n",
    "url = make_url(CFG.CONNECTION_STRING)\n",
    "\n",
    "vector_store = PGVectorStore.from_params(\n",
    "    database=CFG.DB_NAME,\n",
    "    host=url.host,\n",
    "    password=url.password,\n",
    "    port=url.port,\n",
    "    user=url.username,\n",
    "    table_name=CFG.TABLE_NAME,\n",
    "    embed_dim=384,  # change to our 768 if using base model\n",
    "    hnsw_kwargs={\n",
    "        \"hnsw_m\": 16,\n",
    "        \"hnsw_ef_construction\": 64,\n",
    "        \"hnsw_ef_search\": 40,\n",
    "        \"hnsw_dist_method\": \"vector_cosine_ops\",\n",
    "    },\n",
    ")\n",
    "\n",
    "\n",
    "docstore = PostgresDocumentStore.from_params(\n",
    "    database=CFG.DB_NAME,\n",
    "    host=url.host,\n",
    "    password=url.password,\n",
    "    port=url.port,\n",
    "    user=url.username,\n",
    "    table_name=\"docstore\",\n",
    ")\n",
    "\n",
    "\n",
    "storage_context = StorageContext.from_defaults(vector_store=vector_store)"
   ]
  },
  {
   "cell_type": "markdown",
   "metadata": {},
   "source": [
    "#### 2.2 Load metadata & extracted features\n"
   ]
  },
  {
   "cell_type": "markdown",
   "metadata": {},
   "source": [
    "##### 2.2.1 Create new emmbeding"
   ]
  },
  {
   "cell_type": "code",
   "execution_count": 7,
   "metadata": {
    "execution": {
     "iopub.execute_input": "2025-03-29T10:21:47.079640Z",
     "iopub.status.busy": "2025-03-29T10:21:47.079183Z",
     "iopub.status.idle": "2025-03-29T10:21:47.084773Z",
     "shell.execute_reply": "2025-03-29T10:21:47.083569Z",
     "shell.execute_reply.started": "2025-03-29T10:21:47.079601Z"
    },
    "trusted": true
   },
   "outputs": [],
   "source": [
    "from llama_index.core import (\n",
    "    StorageContext,\n",
    "    Settings,\n",
    "    SimpleDirectoryReader\n",
    ")\n",
    "\n",
    "def load_data(path_to_docs='../data/documents/'):\n",
    "    # Load PDF documents\n",
    "    required_exts = [\".pdf\"]\n",
    "    docs = SimpleDirectoryReader(\n",
    "        input_dir=path_to_docs,   \n",
    "        required_exts=required_exts,\n",
    "        recursive=True,   \n",
    "        filename_as_id=True \n",
    "    ).load_data()\n",
    "    return docs"
   ]
  },
  {
   "cell_type": "code",
   "execution_count": 8,
   "metadata": {
    "execution": {
     "iopub.execute_input": "2025-03-29T10:21:49.134005Z",
     "iopub.status.busy": "2025-03-29T10:21:49.133715Z",
     "iopub.status.idle": "2025-03-29T10:21:57.389006Z",
     "shell.execute_reply": "2025-03-29T10:21:57.388076Z",
     "shell.execute_reply.started": "2025-03-29T10:21:49.133984Z"
    },
    "trusted": true
   },
   "outputs": [
    {
     "name": "stdout",
     "output_type": "stream",
     "text": [
      "Loaded 153 documents\n"
     ]
    }
   ],
   "source": [
    "docs = load_data()\n",
    "print(f\"Loaded {len(docs)} documents\")"
   ]
  },
  {
   "cell_type": "code",
   "execution_count": 13,
   "metadata": {
    "execution": {
     "iopub.execute_input": "2025-03-29T10:22:16.105945Z",
     "iopub.status.busy": "2025-03-29T10:22:16.105575Z",
     "iopub.status.idle": "2025-03-29T10:22:17.087601Z",
     "shell.execute_reply": "2025-03-29T10:22:17.086706Z",
     "shell.execute_reply.started": "2025-03-29T10:22:16.105917Z"
    },
    "trusted": true
   },
   "outputs": [
    {
     "name": "stdout",
     "output_type": "stream",
     "text": [
      "230 nodes created from documents\n"
     ]
    }
   ],
   "source": [
    "from llama_index.core.node_parser import SentenceSplitter\n",
    "\n",
    "parser = SentenceSplitter()\n",
    "nodes = parser.get_nodes_from_documents(docs)\n",
    "print(f\"{len(nodes)} nodes created from documents\")"
   ]
  },
  {
   "cell_type": "code",
   "execution_count": 14,
   "metadata": {},
   "outputs": [
    {
     "name": "stdout",
     "output_type": "stream",
     "text": [
      "Could not create async redis client from sync client, pass in `async_redis_client` explicitly.\n"
     ]
    }
   ],
   "source": [
    "from llama_index.core.ingestion import (\n",
    "    DocstoreStrategy,\n",
    "    IngestionPipeline,\n",
    "    IngestionCache\n",
    ")\n",
    "from llama_index.storage.kvstore.redis import RedisKVStore as RedisCache\n",
    "from redis import Redis\n",
    "\n",
    "\n",
    "# Create a Redis client with authentication\n",
    "redis_client = Redis.from_url(CFG.REDIS_URL)\n",
    "\n",
    "cache_store = IngestionCache(\n",
    "    cache=RedisCache.from_redis_client(redis_client),\n",
    "    collection=\"theme_ingestion_cache\",\n",
    ")\n",
    "\n",
    "pipeline = IngestionPipeline(\n",
    "    transformations=[\n",
    "        # TokenTextSplitter(),\n",
    "        embed_model,\n",
    "    ],\n",
    "    vector_store=vector_store,\n",
    "    cache=cache_store,\n",
    "    docstore=docstore,\n",
    "    docstore_strategy=DocstoreStrategy.UPSERTS_AND_DELETE  # others strategy: DUPLICATES_ONLY, UPSERTS_AND_DELETE\n",
    ")\n"
   ]
  },
  {
   "cell_type": "code",
   "execution_count": 15,
   "metadata": {},
   "outputs": [
    {
     "name": "stderr",
     "output_type": "stream",
     "text": [
      "Generating embeddings: 0it [00:00, ?it/s]"
     ]
    },
    {
     "name": "stdout",
     "output_type": "stream",
     "text": [
      "Ingested 0 Nodes\n",
      "Stored 0 nodes in the vector store\n"
     ]
    },
    {
     "name": "stderr",
     "output_type": "stream",
     "text": [
      "\n"
     ]
    }
   ],
   "source": [
    "\n",
    "def ingest_docs(pipeline, docs):\n",
    "    nodes = pipeline.run(documents=docs, show_progress=True)\n",
    "    print(f\"Ingested {len(nodes)} Nodes\")\n",
    "    return nodes\n",
    "nodes = ingest_docs(pipeline, docs)\n",
    "print(f\"Stored {len(nodes)} nodes in the vector store\")"
   ]
  },
  {
   "cell_type": "code",
   "execution_count": null,
   "metadata": {},
   "outputs": [
    {
     "name": "stderr",
     "output_type": "stream",
     "text": [
      "Parsing nodes:   0%|          | 0/153 [00:00<?, ?it/s]"
     ]
    },
    {
     "name": "stderr",
     "output_type": "stream",
     "text": [
      "Parsing nodes: 100%|██████████| 153/153 [00:00<00:00, 1584.15it/s]\n",
      "Generating embeddings: 100%|██████████| 230/230 [00:03<00:00, 74.13it/s]\n"
     ]
    }
   ],
   "source": [
    "# https://docs.llamaindex.ai/en/stable/examples/vector_stores/postgres/#create-the-index\n",
    "\n",
    "# If a dimension mismatch error occurs during embedding insertion, \n",
    "# ensure the database column's vector type matches the dimensions of the embeddings generated by the model.\n",
    "# ex: BAAI/bge-small-en-v1.51 (dim: 384)\n",
    "# ex: BAAI/bge-base-en-v1.51 (dim: 768)\n",
    "# Use the following SQL command to update the column type to match the expected dimensions:\n",
    "# \n",
    "# ALTER TABLE public.data_theme_colection ALTER COLUMN embedding TYPE VECTOR(768);\n",
    "# \n",
    "# Note: Replace \"768\" with the appropriate dimension size based on the embedding model being used.\n",
    "# Ensure that all existing embeddings in the column are updated accordingly to avoid inconsistency.\n",
    "\n",
    "# index = VectorStoreIndex.from_documents(docs, storage_context=storage_context, show_progress=True)\n",
    "# query_engine = index.as_query_engine()"
   ]
  },
  {
   "cell_type": "markdown",
   "metadata": {},
   "source": [
    "##### 2.2.2 Or load from existing vector database"
   ]
  },
  {
   "cell_type": "code",
   "execution_count": 16,
   "metadata": {},
   "outputs": [],
   "source": [
    "from llama_index.core import VectorStoreIndex\n",
    "\n",
    "index = VectorStoreIndex.from_vector_store(\n",
    "    pipeline.vector_store, embed_model=embed_model\n",
    ")"
   ]
  },
  {
   "cell_type": "markdown",
   "metadata": {},
   "source": [
    "# Querying"
   ]
  },
  {
   "cell_type": "code",
   "execution_count": 17,
   "metadata": {
    "execution": {
     "iopub.execute_input": "2025-03-29T10:22:31.074902Z",
     "iopub.status.busy": "2025-03-29T10:22:31.074552Z",
     "iopub.status.idle": "2025-03-29T10:22:31.079454Z",
     "shell.execute_reply": "2025-03-29T10:22:31.078770Z",
     "shell.execute_reply.started": "2025-03-29T10:22:31.074872Z"
    },
    "trusted": true
   },
   "outputs": [],
   "source": [
    "def query_chest_documents(query_engine, user_query: str):\n",
    "    '''Query chest disease documents and return response in Vietnamese'''\n",
    "    format_prompt = f\"\"\"\n",
    "    Dựa trên tài liệu về bệnh lý ngực, hãy cung cấp thông tin về: \"{user_query}\"\n",
    "    \n",
    "    Yêu cầu:\n",
    "    - Trả lời bằng tiếng Việt\n",
    "    - Thông tin phải chính xác và dựa trên tài liệu\n",
    "    - Nêu rõ nguồn tài liệu nếu có\n",
    "    - Cung cấp thông tin đầy đủ nhưng súc tích\n",
    "    \"\"\"\n",
    "    response = query_engine.query(format_prompt)\n",
    "    print(f\"Câu hỏi: {user_query}\")\n",
    "    print(f\"Trả lời: {response}\")\n"
   ]
  },
  {
   "cell_type": "code",
   "execution_count": 19,
   "metadata": {
    "execution": {
     "iopub.execute_input": "2025-03-29T10:22:34.882379Z",
     "iopub.status.busy": "2025-03-29T10:22:34.882062Z",
     "iopub.status.idle": "2025-03-29T10:23:47.964170Z",
     "shell.execute_reply": "2025-03-29T10:23:47.963264Z",
     "shell.execute_reply.started": "2025-03-29T10:22:34.882355Z"
    },
    "trusted": true
   },
   "outputs": [
    {
     "name": "stdout",
     "output_type": "stream",
     "text": [
      "Câu hỏi: Triệu chứng của viêm phổi\n",
      "Trả lời: Theo các tài liệu bệnh lý ngực, triệu chứng của viêm phổi bao gồm:\n",
      "\n",
      "* Sốt cao\n",
      "* Rét run (rash)\n",
      "* Ho khạc đờm mủ (coughing up mucus)\n",
      "* Đau ngực kiểu màng phổi (chest pain)\n",
      "\n",
      "(Nguồn: Phac-do-VP-cong-dong-nguoi-lon_2020.pdf, trang 27-29)\n",
      "----------------------------------------------------------------------------------------------------\n",
      "Câu hỏi: Phương pháp chẩn đoán ung thư phổi\n",
      "Trả lời: Phương pháp chẩn đoán ung thư phổi bao gồm:\n",
      "\n",
      "* X-quang phổi: giúp phát hiện đám mờ trên phổi, là một triệu chứng của ung thư phổi.\n",
      "* Chụp cắt lớp vi tính (CT) ngực: giúp chụp ảnh phổi và các bộ phận xung quanh để phát hiện vị trí ung thư phổi.\n",
      "* Sinh thiết phế quản: giúp lấy mẫu mô từ phế quan để chẩn đoán ung thư phổi.\n",
      "* Vi sinh học: giúp tìm kiếm tế bào ung thư trong máu hoặc dịch phế quản.\n",
      "\n",
      "Theo tài liệu \"Phac-do-VP-cong-dong-nguoi-lon_2020.pdf\" (trang 31-33), phương pháp chẩn đoán ung thư phổi bao gồm các bước sau:\n",
      "\n",
      "1. X-quang phổi: giúp phát hiện đám mờ trên phổi.\n",
      "2. Chụp cắt lớp vi tính (CT) ngực: giúp chụp ảnh phổi và các bộ phận xung quanh để phát hiện vị trí ung thư phổi.\n",
      "3. Sinh thiết phế quản: giúp lấy mẫu mô từ phế quan để chẩn đoán ung thư phổi.\n",
      "4. Vi sinh học: giúp tìm kiếm tế bào ung thư trong máu hoặc dịch phế quan.\n",
      "\n",
      "Theo tài liệu \"VNRS-2022524144253.pdf\" (trang 78), phương pháp chẩn đoán ung thư phổi bao gồm các bước sau:\n",
      "\n",
      "1. X-quang phổi: giúp phát hiện đám mờ trên phổi.\n",
      "2. Chụp cắt lớp vi tính (CT) ngực: giúp chụp ảnh phổi và các bộ phận xung quanh để phát hiện vị trí ung thư phổi.\n",
      "3. Sinh thiết phế quản: giúp lấy mẫu mô từ phế quan để chẩn đoán ung thư phổi.\n",
      "\n",
      "Nguồn: tài liệu \"Phac-do-VP-cong-dong-nguoi-lon_2020.pdf\" và tài liệu \"VNRS-2022524144253.pdf\".\n",
      "----------------------------------------------------------------------------------------------------\n",
      "Câu hỏi: Cách điều trị bệnh lao phổi\n",
      "Trả lời: Cách điều trị bệnh lao phổi được chia thành hai giai đoạn: điều trị ban đầu và điều trị sau khi khỏi.\n",
      "\n",
      "Điều trị ban đầu bao gồm sử dụng thuốc kháng sinh, trong đó Isoniazid (INH), Rifampicin, Pyrazinamide, Ethambutol và Streptomycin là các loại thuốc thường được dùng. Điều trị này kéo dài khoảng 6 tháng.\n",
      "\n",
      "Sau khi bệnh nhân đã khỏi, điều trị tiếp tục được chỉ định để ngăn ngừa tái phát. Điều trị sau khi khỏi bao gồm một hoặc hai loại thuốc kháng sinh, thường là INH và Rifampicin, kéo dài khoảng 9-12 tháng.\n",
      "\n",
      "Nguồn: Phac-do-VP-cong-dong-nguoi-lon_2020.pdf (trang 31, 49)\n"
     ]
    }
   ],
   "source": [
    "query_engine = index.as_query_engine(\n",
    "    similarity_top_k=5,\n",
    "    response_mode=\"tree_summarize\"\n",
    ")\n",
    "\n",
    "# Example queries\n",
    "query_chest_documents(query_engine, \"Triệu chứng của viêm phổi\")\n",
    "print(\"-\"*100)\n",
    "query_chest_documents(query_engine, \"Phương pháp chẩn đoán ung thư phổi\")\n",
    "print(\"-\"*100)\n",
    "query_chest_documents(query_engine, \"Cách điều trị bệnh lao phổi\")"
   ]
  },
  {
   "cell_type": "code",
   "execution_count": 20,
   "metadata": {
    "execution": {
     "iopub.execute_input": "2025-03-29T10:23:47.965778Z",
     "iopub.status.busy": "2025-03-29T10:23:47.965417Z",
     "iopub.status.idle": "2025-03-29T10:24:10.527847Z",
     "shell.execute_reply": "2025-03-29T10:24:10.527093Z",
     "shell.execute_reply.started": "2025-03-29T10:23:47.965743Z"
    },
    "trusted": true
   },
   "outputs": [
    {
     "name": "stdout",
     "output_type": "stream",
     "text": [
      "Câu hỏi: Liệt kê Tiêu chuẩn nhập khoa Điều trị tích cực của ATS\n",
      "Trả lời: Theo các tiêu chuẩn của American Thoracic Society (ATS), Tiêu chuẩn nhập khoa Điều trị tích cực bao gồm hai tiêu chuẩn chính và chín tiêu chuẩn phụ.\n",
      "\n",
      "Tiêu chuẩn chính:\n",
      "\n",
      "1. Suy hô hấp cần phải thông khí cơ học.\n",
      "2. Sốc nhiễm khuẩn cần phải dùng thuốc vận mạch.\n",
      "\n",
      "Tiêu chuẩn phụ:\n",
      "\n",
      "1. Tần số thở > 30 lần/phút.\n",
      "2. PaO2/FiO2 < 250.\n",
      "3. T ổn thƣơng nhiều thùy phổi trên phim X-quang.\n",
      "4. Lú lẫn, mất định hướng.\n",
      "5. Ure máu (BUN > 20 mg/dL).\n",
      "6. Bạch cầu máu < 4000/mm3.\n",
      "7. Giảm tiểu cầu (< 100.000/mm3).\n",
      "8. Hạ thân nhiệt (< 36oC).\n",
      "9. Hạ huyết áp cần phải bù dịch tích cực.\n",
      "\n",
      "Nguồn tài liệu: Theo tài liệu về bệnh lý ngực, Tiêu chuẩn nhập khoa Điều trị tích cực của ATS bao gồm các chỉ số sau... (trang 40).\n"
     ]
    }
   ],
   "source": [
    "query_chest_documents(query_engine,\"Liệt kê Tiêu chuẩn nhập khoa Điều trị tích cực của ATS\")"
   ]
  },
  {
   "cell_type": "code",
   "execution_count": 21,
   "metadata": {
    "execution": {
     "iopub.execute_input": "2025-03-29T10:24:10.529642Z",
     "iopub.status.busy": "2025-03-29T10:24:10.529373Z",
     "iopub.status.idle": "2025-03-29T10:24:11.885955Z",
     "shell.execute_reply": "2025-03-29T10:24:11.884594Z",
     "shell.execute_reply.started": "2025-03-29T10:24:10.529613Z"
    },
    "trusted": true
   },
   "outputs": [
    {
     "name": "stderr",
     "output_type": "stream",
     "text": [
      "huggingface/tokenizers: The current process just got forked, after parallelism has already been used. Disabling parallelism to avoid deadlocks...\n",
      "To disable this warning, you can either:\n",
      "\t- Avoid using `tokenizers` before the fork if possible\n",
      "\t- Explicitly set the environment variable TOKENIZERS_PARALLELISM=(true | false)\n"
     ]
    }
   ],
   "source": [
    "!pip freeze > requirements.txt"
   ]
  },
  {
   "cell_type": "code",
   "execution_count": null,
   "metadata": {
    "trusted": true
   },
   "outputs": [],
   "source": []
  }
 ],
 "metadata": {
  "kaggle": {
   "accelerator": "none",
   "dataSources": [
    {
     "datasetId": 6988880,
     "sourceId": 11194692,
     "sourceType": "datasetVersion"
    },
    {
     "datasetId": 6995606,
     "sourceId": 11204072,
     "sourceType": "datasetVersion"
    }
   ],
   "dockerImageVersionId": 30918,
   "isGpuEnabled": false,
   "isInternetEnabled": true,
   "language": "python",
   "sourceType": "notebook"
  },
  "kernelspec": {
   "display_name": "venv",
   "language": "python",
   "name": "python3"
  },
  "language_info": {
   "codemirror_mode": {
    "name": "ipython",
    "version": 3
   },
   "file_extension": ".py",
   "mimetype": "text/x-python",
   "name": "python",
   "nbconvert_exporter": "python",
   "pygments_lexer": "ipython3",
   "version": "3.12.3"
  }
 },
 "nbformat": 4,
 "nbformat_minor": 4
}
