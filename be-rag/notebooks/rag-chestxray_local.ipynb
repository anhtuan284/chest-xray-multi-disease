{
 "cells": [
  {
   "cell_type": "code",
   "execution_count": 1,
   "metadata": {
    "execution": {
     "iopub.execute_input": "2025-03-29T10:16:11.225633Z",
     "iopub.status.busy": "2025-03-29T10:16:11.225293Z",
     "iopub.status.idle": "2025-03-29T10:16:11.230885Z",
     "shell.execute_reply": "2025-03-29T10:16:11.229990Z",
     "shell.execute_reply.started": "2025-03-29T10:16:11.225601Z"
    },
    "trusted": true
   },
   "outputs": [],
   "source": [
    "import nest_asyncio\n",
    "nest_asyncio.apply()"
   ]
  },
  {
   "cell_type": "code",
   "execution_count": 2,
   "metadata": {},
   "outputs": [],
   "source": [
    "import os\n",
    "from dotenv import load_dotenv \n",
    "load_dotenv()\n",
    "# GLOBAL CONFIGURATION\n",
    "class CFG:\n",
    "    # POSTGRES \n",
    "    OLLAMA_SERVER_URL=os.getenv(\"OLLAMA_SERVER_URL\")\n",
    "    DB_NAME=os.getenv(\"DATABASE_NAME\")\n",
    "    TABLE_NAME = os.getenv(\"VECTOR_TABLE_NAME\")\n",
    "    CUSTOM_TABLE_NAME=\"custom_theme_collection\"\n",
    "    PORT=os.getenv(\"PORT\")\n",
    "    CONNECTION_STRING = os.getenv(\"VECTOR_DATABASE_URL\")\n",
    "\n",
    "    # DIRECTORY\n",
    "    EXTRACTED_FEATURE_DIR=\"./dataset/extracted_features\"\n",
    "    METADATA_DIR=\"./dataset/metadata\"\n",
    "    CACHE_FOLDER=\".cache/huggingface/hub/\"\n",
    "    \n",
    "    # EMBEDDING MODEL\n",
    "    EMBEDDING_MODEL_NAME=\"BAAI/bge-small-en-v1.5\""
   ]
  },
  {
   "cell_type": "markdown",
   "metadata": {},
   "source": [
    "### 1. Setup Embedding Configurations"
   ]
  },
  {
   "cell_type": "code",
   "execution_count": 3,
   "metadata": {
    "execution": {
     "iopub.execute_input": "2025-03-29T10:17:55.998015Z",
     "iopub.status.busy": "2025-03-29T10:17:55.997571Z",
     "iopub.status.idle": "2025-03-29T10:17:57.570825Z",
     "shell.execute_reply": "2025-03-29T10:17:57.570013Z",
     "shell.execute_reply.started": "2025-03-29T10:17:55.997977Z"
    },
    "trusted": true
   },
   "outputs": [],
   "source": [
    "# Setup LLM using Ollama\n",
    "from llama_index.llms.ollama import Ollama\n",
    "llm = Ollama(model=\"llama3\", request_timeout=120.0, base_url=CFG.OLLAMA_SERVER_URL)"
   ]
  },
  {
   "cell_type": "code",
   "execution_count": 4,
   "metadata": {
    "execution": {
     "iopub.execute_input": "2025-03-29T10:17:57.573962Z",
     "iopub.status.busy": "2025-03-29T10:17:57.573518Z",
     "iopub.status.idle": "2025-03-29T10:18:30.465996Z",
     "shell.execute_reply": "2025-03-29T10:18:30.465228Z",
     "shell.execute_reply.started": "2025-03-29T10:17:57.573934Z"
    },
    "trusted": true
   },
   "outputs": [
    {
     "name": "stderr",
     "output_type": "stream",
     "text": [
      "/home/atuan/Desktop/chest-xray-disease-multi-classification/be-rag/venv/lib/python3.12/site-packages/tqdm/auto.py:21: TqdmWarning: IProgress not found. Please update jupyter and ipywidgets. See https://ipywidgets.readthedocs.io/en/stable/user_install.html\n",
      "  from .autonotebook import tqdm as notebook_tqdm\n"
     ]
    }
   ],
   "source": [
    "# Setup Embedding Model\n",
    "from llama_index.embeddings.huggingface import HuggingFaceEmbedding\n",
    "embed_model = HuggingFaceEmbedding(model_name=\"BAAI/bge-small-en-v1.5\", cache_folder=\".cache/huggingface/hub/\")\n",
    "\n",
    "# Define global settings embedding model\n",
    "from llama_index.core import Settings\n",
    "\n",
    "Settings.llm = llm\n",
    "Settings.embed_model = embed_model"
   ]
  },
  {
   "cell_type": "markdown",
   "metadata": {},
   "source": [
    "### 2. Load "
   ]
  },
  {
   "cell_type": "markdown",
   "metadata": {},
   "source": [
    "#### 2.1 Define PgVector store\n"
   ]
  },
  {
   "cell_type": "code",
   "execution_count": 5,
   "metadata": {},
   "outputs": [],
   "source": [
    "import psycopg2\n",
    "\n",
    "conn = psycopg2.connect(CFG.CONNECTION_STRING)\n",
    "conn.autocommit = True\n",
    "\n",
    "# with conn.cursor() as c:\n",
    "#     c.execute(f\"DROP DATABASE IF EXISTS {CFG.DB_NAME}\")\n",
    "#     c.execute(f\"CREATE DATABASE {CFG.DB_NAME}\")"
   ]
  },
  {
   "cell_type": "code",
   "execution_count": 6,
   "metadata": {
    "execution": {
     "iopub.execute_input": "2025-03-29T10:18:30.467286Z",
     "iopub.status.busy": "2025-03-29T10:18:30.467046Z",
     "iopub.status.idle": "2025-03-29T10:18:31.031628Z",
     "shell.execute_reply": "2025-03-29T10:18:31.030702Z",
     "shell.execute_reply.started": "2025-03-29T10:18:30.467267Z"
    },
    "trusted": true
   },
   "outputs": [],
   "source": [
    "from sqlalchemy import make_url\n",
    "from llama_index.core import StorageContext\n",
    "from llama_index.core import VectorStoreIndex\n",
    "from llama_index.vector_stores.postgres import PGVectorStore\n",
    "\n",
    "url = make_url(CFG.CONNECTION_STRING)\n",
    "\n",
    "vector_store = PGVectorStore.from_params(\n",
    "    database=CFG.DB_NAME,\n",
    "    host=url.host,\n",
    "    password=url.password,\n",
    "    port=url.port,\n",
    "    user=url.username,\n",
    "    table_name=CFG.TABLE_NAME,\n",
    "    embed_dim=384,  # change to our 768 if using base model\n",
    "    hnsw_kwargs={\n",
    "        \"hnsw_m\": 16,\n",
    "        \"hnsw_ef_construction\": 64,\n",
    "        \"hnsw_ef_search\": 40,\n",
    "        \"hnsw_dist_method\": \"vector_cosine_ops\",\n",
    "    },\n",
    ")\n",
    "\n",
    "storage_context = StorageContext.from_defaults(vector_store=vector_store)"
   ]
  },
  {
   "cell_type": "markdown",
   "metadata": {},
   "source": [
    "#### 2.2 Load metadata & extracted features\n"
   ]
  },
  {
   "cell_type": "markdown",
   "metadata": {},
   "source": [
    "##### 2.2.1 Create new emmbeding"
   ]
  },
  {
   "cell_type": "code",
   "execution_count": 9,
   "metadata": {
    "execution": {
     "iopub.execute_input": "2025-03-29T10:21:47.079640Z",
     "iopub.status.busy": "2025-03-29T10:21:47.079183Z",
     "iopub.status.idle": "2025-03-29T10:21:47.084773Z",
     "shell.execute_reply": "2025-03-29T10:21:47.083569Z",
     "shell.execute_reply.started": "2025-03-29T10:21:47.079601Z"
    },
    "trusted": true
   },
   "outputs": [],
   "source": [
    "from llama_index.core import (\n",
    "    StorageContext,\n",
    "    Settings,\n",
    "    SimpleDirectoryReader\n",
    ")\n",
    "\n",
    "def load_data(path_to_docs='../data/documents/'):\n",
    "    # Load PDF documents\n",
    "    required_exts = [\".pdf\"]\n",
    "    docs = SimpleDirectoryReader(\n",
    "        input_dir=path_to_docs,   \n",
    "        required_exts=required_exts,\n",
    "        recursive=True,   \n",
    "        filename_as_id=True \n",
    "    ).load_data()\n",
    "    return docs"
   ]
  },
  {
   "cell_type": "code",
   "execution_count": 10,
   "metadata": {
    "execution": {
     "iopub.execute_input": "2025-03-29T10:21:49.134005Z",
     "iopub.status.busy": "2025-03-29T10:21:49.133715Z",
     "iopub.status.idle": "2025-03-29T10:21:57.389006Z",
     "shell.execute_reply": "2025-03-29T10:21:57.388076Z",
     "shell.execute_reply.started": "2025-03-29T10:21:49.133984Z"
    },
    "trusted": true
   },
   "outputs": [
    {
     "name": "stdout",
     "output_type": "stream",
     "text": [
      "Loaded 153 documents\n"
     ]
    }
   ],
   "source": [
    "docs = load_data()\n",
    "print(f\"Loaded {len(docs)} documents\")"
   ]
  },
  {
   "cell_type": "code",
   "execution_count": 11,
   "metadata": {
    "execution": {
     "iopub.execute_input": "2025-03-29T10:22:16.105945Z",
     "iopub.status.busy": "2025-03-29T10:22:16.105575Z",
     "iopub.status.idle": "2025-03-29T10:22:17.087601Z",
     "shell.execute_reply": "2025-03-29T10:22:17.086706Z",
     "shell.execute_reply.started": "2025-03-29T10:22:16.105917Z"
    },
    "trusted": true
   },
   "outputs": [],
   "source": [
    "from llama_index.core.node_parser import SentenceSplitter\n",
    "\n",
    "parser = SentenceSplitter()\n",
    "nodes = parser.get_nodes_from_documents(docs)"
   ]
  },
  {
   "cell_type": "code",
   "execution_count": 12,
   "metadata": {},
   "outputs": [
    {
     "name": "stderr",
     "output_type": "stream",
     "text": [
      "Parsing nodes:   0%|          | 0/153 [00:00<?, ?it/s]"
     ]
    },
    {
     "name": "stderr",
     "output_type": "stream",
     "text": [
      "Parsing nodes: 100%|██████████| 153/153 [00:00<00:00, 1584.15it/s]\n",
      "Generating embeddings: 100%|██████████| 230/230 [00:03<00:00, 74.13it/s]\n"
     ]
    }
   ],
   "source": [
    " # https://docs.llamaindex.ai/en/stable/examples/vector_stores/postgres/#create-the-index\n",
    "\n",
    "# If a dimension mismatch error occurs during embedding insertion, \n",
    "# ensure the database column's vector type matches the dimensions of the embeddings generated by the model.\n",
    "# ex: BAAI/bge-small-en-v1.51 (dim: 384)\n",
    "# ex: BAAI/bge-base-en-v1.51 (dim: 768)\n",
    "# Use the following SQL command to update the column type to match the expected dimensions:\n",
    "# \n",
    "# ALTER TABLE public.data_theme_colection ALTER COLUMN embedding TYPE VECTOR(768);\n",
    "# \n",
    "# Note: Replace \"768\" with the appropriate dimension size based on the embedding model being used.\n",
    "# Ensure that all existing embeddings in the column are updated accordingly to avoid inconsistency.\n",
    "index = VectorStoreIndex.from_documents(docs, storage_context=storage_context, show_progress=True)\n",
    "query_engine = index.as_query_engine()"
   ]
  },
  {
   "cell_type": "markdown",
   "metadata": {},
   "source": [
    "##### 2.2.2 Or load from existing vector database"
   ]
  },
  {
   "cell_type": "code",
   "execution_count": null,
   "metadata": {},
   "outputs": [],
   "source": []
  },
  {
   "cell_type": "markdown",
   "metadata": {},
   "source": [
    "# Querying"
   ]
  },
  {
   "cell_type": "code",
   "execution_count": 13,
   "metadata": {
    "execution": {
     "iopub.execute_input": "2025-03-29T10:22:31.074902Z",
     "iopub.status.busy": "2025-03-29T10:22:31.074552Z",
     "iopub.status.idle": "2025-03-29T10:22:31.079454Z",
     "shell.execute_reply": "2025-03-29T10:22:31.078770Z",
     "shell.execute_reply.started": "2025-03-29T10:22:31.074872Z"
    },
    "trusted": true
   },
   "outputs": [],
   "source": [
    "def query_chest_documents(query_engine, user_query: str):\n",
    "    '''Query chest disease documents and return response in Vietnamese'''\n",
    "    format_prompt = f\"\"\"\n",
    "    Dựa trên tài liệu về bệnh lý ngực, hãy cung cấp thông tin về: \"{user_query}\"\n",
    "    \n",
    "    Yêu cầu:\n",
    "    - Trả lời bằng tiếng Việt\n",
    "    - Thông tin phải chính xác và dựa trên tài liệu\n",
    "    - Nêu rõ nguồn tài liệu nếu có\n",
    "    - Cung cấp thông tin đầy đủ nhưng súc tích\n",
    "    \"\"\"\n",
    "    response = query_engine.query(format_prompt)\n",
    "    print(f\"Câu hỏi: {user_query}\")\n",
    "    print(f\"Trả lời: {response}\")\n"
   ]
  },
  {
   "cell_type": "code",
   "execution_count": 18,
   "metadata": {
    "execution": {
     "iopub.execute_input": "2025-03-29T10:22:34.882379Z",
     "iopub.status.busy": "2025-03-29T10:22:34.882062Z",
     "iopub.status.idle": "2025-03-29T10:23:47.964170Z",
     "shell.execute_reply": "2025-03-29T10:23:47.963264Z",
     "shell.execute_reply.started": "2025-03-29T10:22:34.882355Z"
    },
    "trusted": true
   },
   "outputs": [
    {
     "name": "stdout",
     "output_type": "stream",
     "text": [
      "Câu hỏi: Triệu chứng của viêm phổi\n",
      "Trả lời: Theo tài liệu về bệnh lý ngực, viêm phổi là một hội chứng phổ biến gây ra bởi sự nhiễm khuẩn hoặc tổn thương tại phổi. Triệu chứng của viêm phổi bao gồm:\n",
      "\n",
      "* Đau ngực dữ dội\n",
      "* Ho khạc đờm lẫn máu\n",
      "* Khó thở\n",
      "* Sốc (sốc cấp tính)\n",
      "* Điện tâm đồ có thể thấy dấu hiệu tâm phế cấp: S sâu ở D1, Q sâu ở D3, trục phải, block nhánh phải.\n",
      "* Khí máu có thể thấy tăng thông khí: PaO2 giảm và PaCO2 giảm.\n",
      "* D-dimer máu tăng cao.\n",
      "\n",
      "Nguồn tài liệu: Phac-do-VP-cong-dong-nguoi-lon_2020.pdf (trang 29) và VNRS-2022524144253.pdf (trang 47).\n",
      "----------------------------------------------------------------------------------------------------\n",
      "Câu hỏi: Phương pháp chẩn đoán ung thư phổi\n",
      "Trả lời: Phương pháp chẩn đoán ung thư phổi bao gồm:\n",
      "\n",
      "* X-quang phổi (Chest X-ray): Phát hiện đám mờ trên phim X-quang.\n",
      "* Chụp cắt lớp vi tính lồng ngực (CT Scan of the chest): Hiển thị vị trí và kích thước của khối u.\n",
      "* Sinh thiết (Biopsy): Gây mê để lấy mẫu mô phế quản, sau đó soi trực tiếp hoặc nuôi cấy MGIT để xác định trực khuẩn kháng cồn (AFB) trong đờm.\n",
      "* Khí máu (Blood Gas Analysis): Xem xét PaO2 và PaCO2 để đánh giá tình trạng oxy hóa của bệnh nhân.\n",
      "\n",
      "Theo tài liệu \"Phac-do-VP-cong-dong-nguoi-lon_2020.pdf\" trang 29, \"Chụp cắt lớp vi tính ngực, soi phế quản và sinh thiết giúp chẩn đoán xác định\".\n",
      "\n",
      "Ngoài ra, phương pháp chẩn đoán ung thư phổi được thực hiện theo các bước sau:\n",
      "\n",
      "* Đánh giá triệu chứng: Xem xét triệu chứng của bệnh nhân, bao gồm khó thở, đau ngực, chảy máu,... để xác định nhu cầu chẩn đoán.\n",
      "* Xét nghiệm hình ảnh: Thực hiện chụp X-quang, CT scan, MRI,... để đánh giá hình thái và vị trí của tổn thương phổi.\n",
      "* Vết bên sinh học: Thử nghiệm các chỉ số sinh hóa trong máu, bao gồm xét nghiệm tế bào máu, xét nghiệm protein PPD,... để xác định có nhiễm ung thư không.\n",
      "* Biopsy: Thực hiện lấy mẫu mô từ phổi để xác định kết quả chẩn đoán.\n",
      "----------------------------------------------------------------------------------------------------\n",
      "Câu hỏi: Cách điều trị bệnh lao phổi\n",
      "Trả lời: Theo tài liệu về bệnh lý ngực, cách điều trị bệnh lao phổi bao gồm hai giai đoạn: giai đoạn đầu và giai đoạn sau.\n",
      "\n",
      "Giai đoạn đầu, bệnh nhân được điều trị bằng thuốc vận mạch để giảm triệu chứng như ho, đau thô, sốt. Giai đoạn này áp dụng cho các trường hợp đặc biệt có tiêu chuẩn phụ.\n",
      "\n",
      "Giai đoạn sau, bệnh nhân được điều trị bằng thuốc chặn lại sự phát triển của vi khuẩn Mycobacterium tuberculosis, kéo dài trong 6-9 tháng nhưng có thể dài hơn tuỳ thuộc vào độ nghiêm trọng của bệnh và đáp ứng với thuốc.\n",
      "\n",
      "Tài liệu tham khảo: Phac-do-VP-cong-dong-nguoi-lon_2020.pdf.\n"
     ]
    }
   ],
   "source": [
    "query_engine = index.as_query_engine(\n",
    "    similarity_top_k=5,\n",
    "    response_mode=\"tree_summarize\"\n",
    ")\n",
    "\n",
    "# Example queries\n",
    "query_chest_documents(query_engine, \"Triệu chứng của viêm phổi\")\n",
    "print(\"-\"*100)\n",
    "query_chest_documents(query_engine, \"Phương pháp chẩn đoán ung thư phổi\")\n",
    "print(\"-\"*100)\n",
    "query_chest_documents(query_engine, \"Cách điều trị bệnh lao phổi\")"
   ]
  },
  {
   "cell_type": "code",
   "execution_count": 19,
   "metadata": {
    "execution": {
     "iopub.execute_input": "2025-03-29T10:23:47.965778Z",
     "iopub.status.busy": "2025-03-29T10:23:47.965417Z",
     "iopub.status.idle": "2025-03-29T10:24:10.527847Z",
     "shell.execute_reply": "2025-03-29T10:24:10.527093Z",
     "shell.execute_reply.started": "2025-03-29T10:23:47.965743Z"
    },
    "trusted": true
   },
   "outputs": [
    {
     "name": "stdout",
     "output_type": "stream",
     "text": [
      "Câu hỏi: Liệt kê Tiêu chuẩn nhập khoa Điều trị tích cực của ATS\n",
      "Trả lời: Tiêu chuẩn nhập khoa Điều trị tích cực của ATS bao gồm 2 tiêu chuẩn chính và 9 tiêu chuẩn phụ.\n",
      "\n",
      "Tiêu chuẩn chính:\n",
      "\n",
      "1. Suy hô hấp cần phải thông khí cơ học.\n",
      "2. Sốc nhiễm khuẩn cần phải dùng thuốc vận mạch.\n",
      "\n",
      "Tiêu chuẩn phụ:\n",
      "\n",
      "1. Tần số thở > 30 lần/phút.\n",
      "2. PaO2/FiO2 < 250.\n",
      "3. T ổn thƣơng nhiều thùy phổi trên phim X-quang.\n",
      "4. Lú lẫn, mất định hướng.\n",
      "5. Ure máu (BUN > 20 mg/dL).\n",
      "6. Bạch cầu máu < 4000/mm3.\n",
      "7. Giảm tiểu cầu (< 100.000/mm3).\n",
      "8. Hạ thân nhiệt (< 36oC).\n",
      "9. Hạ huyết áp cần phải bù dịch tích cực.\n",
      "\n",
      "Nguồn: Phac-do-VP-cong-dong-nguoi-lon_2020.pdf, trang 27.\n"
     ]
    }
   ],
   "source": [
    "query_chest_documents(query_engine,\"Liệt kê Tiêu chuẩn nhập khoa Điều trị tích cực của ATS\")"
   ]
  },
  {
   "cell_type": "code",
   "execution_count": 20,
   "metadata": {
    "execution": {
     "iopub.execute_input": "2025-03-29T10:24:10.529642Z",
     "iopub.status.busy": "2025-03-29T10:24:10.529373Z",
     "iopub.status.idle": "2025-03-29T10:24:11.885955Z",
     "shell.execute_reply": "2025-03-29T10:24:11.884594Z",
     "shell.execute_reply.started": "2025-03-29T10:24:10.529613Z"
    },
    "trusted": true
   },
   "outputs": [
    {
     "name": "stderr",
     "output_type": "stream",
     "text": [
      "huggingface/tokenizers: The current process just got forked, after parallelism has already been used. Disabling parallelism to avoid deadlocks...\n",
      "To disable this warning, you can either:\n",
      "\t- Avoid using `tokenizers` before the fork if possible\n",
      "\t- Explicitly set the environment variable TOKENIZERS_PARALLELISM=(true | false)\n"
     ]
    },
    {
     "name": "stdout",
     "output_type": "stream",
     "text": [
      "accelerate==1.2.1\n",
      "aiohappyeyeballs==2.4.4\n",
      "aiohttp==3.11.11\n",
      "aiosignal==1.3.2\n",
      "annotated-types==0.7.0\n",
      "anyio==4.8.0\n",
      "asttokens==3.0.0\n",
      "async-timeout==4.0.3\n",
      "asyncpg==0.30.0\n",
      "attrs==24.3.0\n",
      "beautifulsoup4==4.12.3\n",
      "certifi==2024.12.14\n",
      "charset-normalizer==3.4.1\n",
      "click==8.1.8\n",
      "colorama==0.4.6\n",
      "comm==0.2.2\n",
      "dataclasses-json==0.6.7\n",
      "debugpy==1.8.13\n",
      "decorator==5.2.1\n",
      "Deprecated==1.2.15\n",
      "dirtyjson==1.0.8\n",
      "distro==1.9.0\n",
      "exceptiongroup==1.2.2\n",
      "executing==2.2.0\n",
      "fastapi==0.115.6\n",
      "filelock==3.16.1\n",
      "filetype==1.2.0\n",
      "frozenlist==1.5.0\n",
      "fsspec==2024.12.0\n",
      "greenlet==3.1.1\n",
      "h11==0.14.0\n",
      "httpcore==1.0.7\n",
      "httpx==0.27.2\n",
      "httpx-sse==0.4.0\n",
      "huggingface-hub==0.27.1\n",
      "idna==3.10\n",
      "ipykernel==6.29.5\n",
      "ipython==9.1.0\n",
      "ipython_pygments_lexers==1.1.1\n",
      "jedi==0.19.2\n",
      "Jinja2==3.1.5\n",
      "jiter==0.8.2\n",
      "joblib==1.4.2\n",
      "jsonpatch==1.33\n",
      "jsonpointer==3.0.0\n",
      "jupyter_client==8.6.3\n",
      "jupyter_core==5.7.2\n",
      "langchain==0.3.14\n",
      "langchain-community==0.3.14\n",
      "langchain-core==0.3.29\n",
      "langchain-experimental==0.3.4\n",
      "langchain-text-splitters==0.3.5\n",
      "langsmith==0.2.10\n",
      "llama-cloud==0.1.7\n",
      "llama-index==0.12.9\n",
      "llama-index-agent-openai==0.4.1\n",
      "llama-index-cli==0.4.0\n",
      "llama-index-core==0.12.10.post1\n",
      "llama-index-embeddings-adapter==0.3.0\n",
      "llama-index-embeddings-huggingface==0.4.0\n",
      "llama-index-embeddings-openai==0.3.1\n",
      "llama-index-indices-managed-llama-cloud==0.6.3\n",
      "llama-index-llms-huggingface==0.4.2\n",
      "llama-index-llms-ollama==0.5.0\n",
      "llama-index-llms-openai==0.3.12\n",
      "llama-index-multi-modal-llms-openai==0.4.2\n",
      "llama-index-program-openai==0.3.1\n",
      "llama-index-question-gen-openai==0.3.0\n",
      "llama-index-readers-file==0.4.2\n",
      "llama-index-readers-llama-parse==0.4.0\n",
      "llama-index-vector-stores-postgres==0.4.1\n",
      "llama-parse==0.5.19\n",
      "MarkupSafe==3.0.2\n",
      "marshmallow==3.23.3\n",
      "matplotlib-inline==0.1.7\n",
      "mpmath==1.3.0\n",
      "multidict==6.1.0\n",
      "mypy-extensions==1.0.0\n",
      "nest-asyncio==1.6.0\n",
      "networkx==3.4.2\n",
      "nltk==3.9.1\n",
      "numpy==1.26.4\n",
      "nvidia-cublas-cu12==12.4.5.8\n",
      "nvidia-cuda-cupti-cu12==12.4.127\n",
      "nvidia-cuda-nvrtc-cu12==12.4.127\n",
      "nvidia-cuda-runtime-cu12==12.4.127\n",
      "nvidia-cudnn-cu12==9.1.0.70\n",
      "nvidia-cufft-cu12==11.2.1.3\n",
      "nvidia-curand-cu12==10.3.5.147\n",
      "nvidia-cusolver-cu12==11.6.1.9\n",
      "nvidia-cusparse-cu12==12.3.1.170\n",
      "nvidia-nccl-cu12==2.21.5\n",
      "nvidia-nvjitlink-cu12==12.4.127\n",
      "nvidia-nvtx-cu12==12.4.127\n",
      "ollama==0.4.5\n",
      "openai==1.59.3\n",
      "orjson==3.10.13\n",
      "packaging==24.2\n",
      "pandas==2.2.3\n",
      "parso==0.8.4\n",
      "pexpect==4.9.0\n",
      "pgvector==0.3.6\n",
      "pillow==11.1.0\n",
      "platformdirs==4.3.7\n",
      "prompt_toolkit==3.0.50\n",
      "propcache==0.2.1\n",
      "psutil==6.1.1\n",
      "psycopg2-binary==2.9.10\n",
      "ptyprocess==0.7.0\n",
      "pure_eval==0.2.3\n",
      "pydantic==2.10.4\n",
      "pydantic-settings==2.7.1\n",
      "pydantic_core==2.27.2\n",
      "Pygments==2.19.1\n",
      "pypdf==5.1.0\n",
      "python-dateutil==2.9.0.post0\n",
      "python-dotenv==1.0.1\n",
      "pytz==2024.2\n",
      "PyYAML==6.0.2\n",
      "pyzmq==26.4.0\n",
      "regex==2024.11.6\n",
      "requests==2.32.3\n",
      "requests-toolbelt==1.0.0\n",
      "safetensors==0.5.0\n",
      "scikit-learn==1.6.0\n",
      "scipy==1.15.0\n",
      "sentence-transformers==3.3.1\n",
      "setuptools==78.1.0\n",
      "six==1.17.0\n",
      "sniffio==1.3.1\n",
      "soupsieve==2.6\n",
      "SQLAlchemy==2.0.36\n",
      "stack-data==0.6.3\n",
      "starlette==0.41.3\n",
      "striprtf==0.0.26\n",
      "sympy==1.13.1\n",
      "tenacity==9.0.0\n",
      "text-generation==0.7.0\n",
      "threadpoolctl==3.5.0\n",
      "tiktoken==0.8.0\n",
      "tokenizers==0.21.0\n",
      "torch==2.5.1\n",
      "tornado==6.4.2\n",
      "tqdm==4.67.1\n",
      "traitlets==5.14.3\n",
      "transformers==4.47.1\n",
      "triton==3.1.0\n",
      "typing-inspect==0.9.0\n",
      "typing_extensions==4.12.2\n",
      "tzdata==2024.2\n",
      "urllib3==2.3.0\n",
      "uvicorn==0.34.0\n",
      "wcwidth==0.2.13\n",
      "wrapt==1.17.0\n",
      "yarl==1.18.3\n"
     ]
    }
   ],
   "source": [
    "!pip freeze"
   ]
  },
  {
   "cell_type": "code",
   "execution_count": null,
   "metadata": {
    "trusted": true
   },
   "outputs": [],
   "source": []
  }
 ],
 "metadata": {
  "kaggle": {
   "accelerator": "none",
   "dataSources": [
    {
     "datasetId": 6988880,
     "sourceId": 11194692,
     "sourceType": "datasetVersion"
    },
    {
     "datasetId": 6995606,
     "sourceId": 11204072,
     "sourceType": "datasetVersion"
    }
   ],
   "dockerImageVersionId": 30918,
   "isGpuEnabled": false,
   "isInternetEnabled": true,
   "language": "python",
   "sourceType": "notebook"
  },
  "kernelspec": {
   "display_name": "venv",
   "language": "python",
   "name": "python3"
  },
  "language_info": {
   "codemirror_mode": {
    "name": "ipython",
    "version": 3
   },
   "file_extension": ".py",
   "mimetype": "text/x-python",
   "name": "python",
   "nbconvert_exporter": "python",
   "pygments_lexer": "ipython3",
   "version": "3.12.3"
  }
 },
 "nbformat": 4,
 "nbformat_minor": 4
}
